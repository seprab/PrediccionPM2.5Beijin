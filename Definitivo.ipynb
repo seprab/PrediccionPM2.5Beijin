{
 "cells": [
  {
   "cell_type": "code",
   "execution_count": 1,
   "metadata": {},
   "outputs": [],
   "source": [
    "import numpy as np\n",
    "import pandas as pd\n",
    "from sklearn.metrics import accuracy_score\n",
    "from sklearn.model_selection import train_test_split\n",
    "from sklearn.metrics import mean_squared_error\n",
    "from sklearn import preprocessing\n",
    "import seaborn as sns\n",
    "import matplotlib.pyplot as plt"
   ]
  },
  {
   "cell_type": "code",
   "execution_count": 23,
   "metadata": {},
   "outputs": [],
   "source": [
    "df_train = pd.read_csv('train.csv',index_col='Id')\n",
    "df_test =  pd.read_csv('test.csv',index_col='Id')"
   ]
  },
  {
   "cell_type": "code",
   "execution_count": 24,
   "metadata": {},
   "outputs": [],
   "source": [
    "no_relevancia = ['index','day', 'NO2', 'O3', 'DEWP', 'station']\n",
    "df_train.drop(columns= no_relevancia, inplace= True)\n",
    "df_test.drop(columns= no_relevancia, inplace= True)"
   ]
  },
  {
   "cell_type": "code",
   "execution_count": 25,
   "metadata": {},
   "outputs": [],
   "source": [
    "df_train[\"TEMP\"] =(df_train[\"TEMP\"]-df_train[\"TEMP\"].min())/(df_train[\"TEMP\"].max()-df_train[\"TEMP\"].min())\n",
    "df_test[\"TEMP\"] =(df_test[\"TEMP\"]-df_test[\"TEMP\"].min())/(df_test[\"TEMP\"].max()-df_test[\"TEMP\"].min())"
   ]
  },
  {
   "cell_type": "code",
   "execution_count": 26,
   "metadata": {},
   "outputs": [],
   "source": [
    "def Estandarizar_Direccion(df):\n",
    "    for idx in df.index:\n",
    "        valor_cargado = df.loc[idx, \"wd\"]\n",
    "        df.loc[idx, \"N\"] = 1 if \"N\" in valor_cargado else 0\n",
    "        df.loc[idx, \"E\"] = 1 if \"E\" in valor_cargado else 0"
   ]
  },
  {
   "cell_type": "code",
   "execution_count": 27,
   "metadata": {},
   "outputs": [],
   "source": [
    "Estandarizar_Direccion(df_train)\n",
    "Estandarizar_Direccion(df_test)"
   ]
  },
  {
   "cell_type": "code",
   "execution_count": 28,
   "metadata": {},
   "outputs": [],
   "source": [
    "df_train.drop(columns= [\"wd\"], inplace= True)\n",
    "df_test.drop(columns= [\"wd\"], inplace= True)"
   ]
  },
  {
   "cell_type": "code",
   "execution_count": 29,
   "metadata": {},
   "outputs": [],
   "source": [
    "df_train[\"year\"] = df_train[\"year\"]-2013\n",
    "df_test[\"year\"] = df_test[\"year\"]-2013"
   ]
  },
  {
   "cell_type": "code",
   "execution_count": 30,
   "metadata": {},
   "outputs": [],
   "source": [
    "def Estandarizar_Mes(df):\n",
    "    grupos = {1:0, 2:1, 3:2, 4:2, 5:2, 6:2, 7:2, 8:3, 9:3, 10:3, 11:3, 12:3}\n",
    "    for idx in df.index:\n",
    "        valor_cargado = df.loc[idx, \"month\"]\n",
    "        df.loc[idx, \"grupo\"] = grupos[valor_cargado]"
   ]
  },
  {
   "cell_type": "code",
   "execution_count": 31,
   "metadata": {},
   "outputs": [],
   "source": [
    "Estandarizar_Mes(df_train)\n",
    "Estandarizar_Mes(df_test)"
   ]
  },
  {
   "cell_type": "code",
   "execution_count": 33,
   "metadata": {},
   "outputs": [],
   "source": [
    "X_0 = df_train[df_train[\"grupo\"]==0].drop(columns=[\"PM2.5\", \"month\", \"grupo\"])\n",
    "X_1 = df_train[df_train[\"grupo\"]==1].drop(columns=[\"PM2.5\", \"month\", \"grupo\"])\n",
    "X_2 = df_train[df_train[\"grupo\"]==2].drop(columns=[\"PM2.5\", \"month\", \"grupo\"])\n",
    "X_3 = df_train[df_train[\"grupo\"]==3].drop(columns=[\"PM2.5\", \"month\", \"grupo\"])"
   ]
  },
  {
   "cell_type": "code",
   "execution_count": 34,
   "metadata": {},
   "outputs": [],
   "source": [
    "y_0 = df_train[df_train[\"grupo\"]==0][\"PM2.5\"]\n",
    "y_1 = df_train[df_train[\"grupo\"]==1][\"PM2.5\"]\n",
    "y_2 = df_train[df_train[\"grupo\"]==2][\"PM2.5\"]\n",
    "y_3 = df_train[df_train[\"grupo\"]==3][\"PM2.5\"]"
   ]
  },
  {
   "cell_type": "code",
   "execution_count": 40,
   "metadata": {},
   "outputs": [],
   "source": [
    "X_test_0 = df_test[df_test[\"grupo\"]==0].drop(columns=[\"month\", \"grupo\"])\n",
    "X_test_1 = df_test[df_test[\"grupo\"]==1].drop(columns=[\"month\", \"grupo\"])\n",
    "X_test_2 = df_test[df_test[\"grupo\"]==2].drop(columns=[\"month\", \"grupo\"])\n",
    "X_test_3 = df_test[df_test[\"grupo\"]==3].drop(columns=[\"month\", \"grupo\"])"
   ]
  },
  {
   "cell_type": "code",
   "execution_count": 41,
   "metadata": {},
   "outputs": [],
   "source": [
    "from sklearn.ensemble import RandomForestRegressor\n",
    "rfr_0 = RandomForestRegressor(\n",
    "    n_estimators= 100,\n",
    "    criterion= \"mse\",\n",
    "    min_samples_split= 2,\n",
    "    min_samples_leaf= 1\n",
    ")\n",
    "rfr_1 = RandomForestRegressor(\n",
    "    n_estimators= 100,\n",
    "    criterion= \"mse\",\n",
    "    min_samples_split= 2,\n",
    "    min_samples_leaf= 1\n",
    ")\n",
    "rfr_2 = RandomForestRegressor(\n",
    "    n_estimators= 100,\n",
    "    criterion= \"mse\",\n",
    "    min_samples_split= 2,\n",
    "    min_samples_leaf= 1\n",
    ")\n",
    "rfr_3 = RandomForestRegressor(\n",
    "    n_estimators= 100,\n",
    "    criterion= \"mse\",\n",
    "    min_samples_split= 2,\n",
    "    min_samples_leaf= 1\n",
    ")"
   ]
  },
  {
   "cell_type": "code",
   "execution_count": 42,
   "metadata": {},
   "outputs": [
    {
     "data": {
      "text/plain": [
       "RandomForestRegressor()"
      ]
     },
     "execution_count": 42,
     "metadata": {},
     "output_type": "execute_result"
    }
   ],
   "source": [
    "rfr_0.fit(X_0,y_0)\n",
    "rfr_1.fit(X_1,y_1)\n",
    "rfr_2.fit(X_2,y_2)\n",
    "rfr_3.fit(X_3,y_3)"
   ]
  },
  {
   "cell_type": "code",
   "execution_count": 43,
   "metadata": {},
   "outputs": [],
   "source": [
    "y_pred_0 = rfr_0.predict(X_test_0)\n",
    "y_pred_1 = rfr_1.predict(X_test_1)\n",
    "y_pred_2 = rfr_2.predict(X_test_2)\n",
    "y_pred_3 = rfr_3.predict(X_test_3)"
   ]
  },
  {
   "cell_type": "code",
   "execution_count": 45,
   "metadata": {},
   "outputs": [
    {
     "ename": "AttributeError",
     "evalue": "'numpy.ndarray' object has no attribute 'head'",
     "output_type": "error",
     "traceback": [
      "\u001b[1;31m---------------------------------------------------------------------------\u001b[0m",
      "\u001b[1;31mAttributeError\u001b[0m                            Traceback (most recent call last)",
      "\u001b[1;32m<ipython-input-45-964d0b68bc5e>\u001b[0m in \u001b[0;36m<module>\u001b[1;34m\u001b[0m\n\u001b[1;32m----> 1\u001b[1;33m \u001b[0my_pred_0\u001b[0m\u001b[1;33m.\u001b[0m\u001b[0mhead\u001b[0m\u001b[1;33m(\u001b[0m\u001b[1;33m)\u001b[0m\u001b[1;33m\u001b[0m\u001b[1;33m\u001b[0m\u001b[0m\n\u001b[0m",
      "\u001b[1;31mAttributeError\u001b[0m: 'numpy.ndarray' object has no attribute 'head'"
     ]
    }
   ],
   "source": [
    "y_pred_0.head()"
   ]
  },
  {
   "cell_type": "code",
   "execution_count": 46,
   "metadata": {},
   "outputs": [],
   "source": [
    "X_test_0['PM2.5'] =y_pred_0\n",
    "X_test_1['PM2.5'] =y_pred_1\n",
    "X_test_2['PM2.5'] =y_pred_2\n",
    "X_test_3['PM2.5'] =y_pred_3"
   ]
  },
  {
   "cell_type": "code",
   "execution_count": 61,
   "metadata": {},
   "outputs": [],
   "source": [
    "final_test = pd.concat([X_test_0, X_test_1, X_test_2, X_test_3]) "
   ]
  },
  {
   "cell_type": "code",
   "execution_count": 65,
   "metadata": {},
   "outputs": [],
   "source": [
    "final_test.sort_index(ascending=True, inplace= True)"
   ]
  },
  {
   "cell_type": "code",
   "execution_count": 66,
   "metadata": {},
   "outputs": [
    {
     "data": {
      "text/html": [
       "<div>\n",
       "<style scoped>\n",
       "    .dataframe tbody tr th:only-of-type {\n",
       "        vertical-align: middle;\n",
       "    }\n",
       "\n",
       "    .dataframe tbody tr th {\n",
       "        vertical-align: top;\n",
       "    }\n",
       "\n",
       "    .dataframe thead th {\n",
       "        text-align: right;\n",
       "    }\n",
       "</style>\n",
       "<table border=\"1\" class=\"dataframe\">\n",
       "  <thead>\n",
       "    <tr style=\"text-align: right;\">\n",
       "      <th></th>\n",
       "      <th>year</th>\n",
       "      <th>hour</th>\n",
       "      <th>PM10</th>\n",
       "      <th>SO2</th>\n",
       "      <th>CO</th>\n",
       "      <th>TEMP</th>\n",
       "      <th>PRES</th>\n",
       "      <th>RAIN</th>\n",
       "      <th>WSPM</th>\n",
       "      <th>N</th>\n",
       "      <th>E</th>\n",
       "      <th>PM2.5</th>\n",
       "    </tr>\n",
       "    <tr>\n",
       "      <th>Id</th>\n",
       "      <th></th>\n",
       "      <th></th>\n",
       "      <th></th>\n",
       "      <th></th>\n",
       "      <th></th>\n",
       "      <th></th>\n",
       "      <th></th>\n",
       "      <th></th>\n",
       "      <th></th>\n",
       "      <th></th>\n",
       "      <th></th>\n",
       "      <th></th>\n",
       "    </tr>\n",
       "  </thead>\n",
       "  <tbody>\n",
       "    <tr>\n",
       "      <th>0</th>\n",
       "      <td>0</td>\n",
       "      <td>0</td>\n",
       "      <td>4.0</td>\n",
       "      <td>4.0</td>\n",
       "      <td>300.0</td>\n",
       "      <td>0.313214</td>\n",
       "      <td>1023.0</td>\n",
       "      <td>0.0</td>\n",
       "      <td>4.4</td>\n",
       "      <td>1.0</td>\n",
       "      <td>0.0</td>\n",
       "      <td>4.545</td>\n",
       "    </tr>\n",
       "    <tr>\n",
       "      <th>2</th>\n",
       "      <td>0</td>\n",
       "      <td>2</td>\n",
       "      <td>7.0</td>\n",
       "      <td>5.0</td>\n",
       "      <td>300.0</td>\n",
       "      <td>0.306688</td>\n",
       "      <td>1023.5</td>\n",
       "      <td>0.0</td>\n",
       "      <td>5.6</td>\n",
       "      <td>1.0</td>\n",
       "      <td>0.0</td>\n",
       "      <td>5.310</td>\n",
       "    </tr>\n",
       "    <tr>\n",
       "      <th>12</th>\n",
       "      <td>0</td>\n",
       "      <td>12</td>\n",
       "      <td>6.0</td>\n",
       "      <td>7.0</td>\n",
       "      <td>300.0</td>\n",
       "      <td>0.388254</td>\n",
       "      <td>1027.3</td>\n",
       "      <td>0.0</td>\n",
       "      <td>5.1</td>\n",
       "      <td>1.0</td>\n",
       "      <td>0.0</td>\n",
       "      <td>3.510</td>\n",
       "    </tr>\n",
       "    <tr>\n",
       "      <th>15</th>\n",
       "      <td>0</td>\n",
       "      <td>15</td>\n",
       "      <td>15.0</td>\n",
       "      <td>7.0</td>\n",
       "      <td>400.0</td>\n",
       "      <td>0.425775</td>\n",
       "      <td>1025.7</td>\n",
       "      <td>0.0</td>\n",
       "      <td>2.8</td>\n",
       "      <td>1.0</td>\n",
       "      <td>1.0</td>\n",
       "      <td>10.860</td>\n",
       "    </tr>\n",
       "    <tr>\n",
       "      <th>17</th>\n",
       "      <td>0</td>\n",
       "      <td>17</td>\n",
       "      <td>23.0</td>\n",
       "      <td>11.0</td>\n",
       "      <td>400.0</td>\n",
       "      <td>0.394780</td>\n",
       "      <td>1026.3</td>\n",
       "      <td>0.0</td>\n",
       "      <td>2.8</td>\n",
       "      <td>1.0</td>\n",
       "      <td>1.0</td>\n",
       "      <td>12.350</td>\n",
       "    </tr>\n",
       "  </tbody>\n",
       "</table>\n",
       "</div>"
      ],
      "text/plain": [
       "    year  hour  PM10   SO2     CO      TEMP    PRES  RAIN  WSPM    N    E  \\\n",
       "Id                                                                          \n",
       "0      0     0   4.0   4.0  300.0  0.313214  1023.0   0.0   4.4  1.0  0.0   \n",
       "2      0     2   7.0   5.0  300.0  0.306688  1023.5   0.0   5.6  1.0  0.0   \n",
       "12     0    12   6.0   7.0  300.0  0.388254  1027.3   0.0   5.1  1.0  0.0   \n",
       "15     0    15  15.0   7.0  400.0  0.425775  1025.7   0.0   2.8  1.0  1.0   \n",
       "17     0    17  23.0  11.0  400.0  0.394780  1026.3   0.0   2.8  1.0  1.0   \n",
       "\n",
       "     PM2.5  \n",
       "Id          \n",
       "0    4.545  \n",
       "2    5.310  \n",
       "12   3.510  \n",
       "15  10.860  \n",
       "17  12.350  "
      ]
     },
     "execution_count": 66,
     "metadata": {},
     "output_type": "execute_result"
    }
   ],
   "source": [
    "final_test.head()"
   ]
  },
  {
   "cell_type": "code",
   "execution_count": 67,
   "metadata": {},
   "outputs": [],
   "source": [
    "final_test['PM2.5'].to_csv('prueba_02', index= True)"
   ]
  },
  {
   "cell_type": "code",
   "execution_count": null,
   "metadata": {},
   "outputs": [],
   "source": []
  }
 ],
 "metadata": {
  "kernelspec": {
   "display_name": "Python 3",
   "language": "python",
   "name": "python3"
  },
  "language_info": {
   "codemirror_mode": {
    "name": "ipython",
    "version": 3
   },
   "file_extension": ".py",
   "mimetype": "text/x-python",
   "name": "python",
   "nbconvert_exporter": "python",
   "pygments_lexer": "ipython3",
   "version": "3.8.3"
  }
 },
 "nbformat": 4,
 "nbformat_minor": 4
}
