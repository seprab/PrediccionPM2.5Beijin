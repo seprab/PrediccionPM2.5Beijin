{
 "cells": [
  {
   "cell_type": "markdown",
   "metadata": {},
   "source": [
    "## Programa paso a paso"
   ]
  },
  {
   "cell_type": "code",
   "execution_count": 49,
   "metadata": {},
   "outputs": [],
   "source": [
    "import numpy as np\n",
    "import pandas as pd\n",
    "from sklearn.metrics import accuracy_score\n",
    "from sklearn.model_selection import train_test_split\n",
    "from sklearn.metrics import mean_squared_error\n",
    "from sklearn import preprocessing\n",
    "import seaborn as sns\n",
    "import matplotlib.pyplot as plt"
   ]
  },
  {
   "cell_type": "code",
   "execution_count": 2,
   "metadata": {},
   "outputs": [],
   "source": [
    "df_train = pd.read_csv('train.csv',index_col='Id')\n",
    "df_test =  pd.read_csv('test.csv',index_col='Id')"
   ]
  },
  {
   "cell_type": "code",
   "execution_count": 3,
   "metadata": {},
   "outputs": [
    {
     "data": {
      "text/plain": [
       "Index(['index', 'year', 'month', 'day', 'hour', 'PM2.5', 'PM10', 'SO2', 'NO2',\n",
       "       'CO', 'O3', 'TEMP', 'PRES', 'DEWP', 'RAIN', 'wd', 'WSPM', 'station'],\n",
       "      dtype='object')"
      ]
     },
     "execution_count": 3,
     "metadata": {},
     "output_type": "execute_result"
    }
   ],
   "source": [
    "df_train.columns"
   ]
  },
  {
   "cell_type": "code",
   "execution_count": 4,
   "metadata": {},
   "outputs": [],
   "source": [
    "#Columnas a eliminar, dado los factores en el README.md\n",
    "no_relevancia = ['index','month', 'day', 'month', 'NO2', 'O3', 'DEWP', 'station']\n",
    "df_train.drop(columns= no_relevancia, inplace= True)\n",
    "df_test.drop(columns= no_relevancia, inplace= True)"
   ]
  },
  {
   "cell_type": "code",
   "execution_count": 5,
   "metadata": {},
   "outputs": [
    {
     "data": {
      "text/html": [
       "<div>\n",
       "<style scoped>\n",
       "    .dataframe tbody tr th:only-of-type {\n",
       "        vertical-align: middle;\n",
       "    }\n",
       "\n",
       "    .dataframe tbody tr th {\n",
       "        vertical-align: top;\n",
       "    }\n",
       "\n",
       "    .dataframe thead th {\n",
       "        text-align: right;\n",
       "    }\n",
       "</style>\n",
       "<table border=\"1\" class=\"dataframe\">\n",
       "  <thead>\n",
       "    <tr style=\"text-align: right;\">\n",
       "      <th></th>\n",
       "      <th>year</th>\n",
       "      <th>hour</th>\n",
       "      <th>PM2.5</th>\n",
       "      <th>PM10</th>\n",
       "      <th>SO2</th>\n",
       "      <th>CO</th>\n",
       "      <th>TEMP</th>\n",
       "      <th>PRES</th>\n",
       "      <th>RAIN</th>\n",
       "      <th>wd</th>\n",
       "      <th>WSPM</th>\n",
       "    </tr>\n",
       "    <tr>\n",
       "      <th>Id</th>\n",
       "      <th></th>\n",
       "      <th></th>\n",
       "      <th></th>\n",
       "      <th></th>\n",
       "      <th></th>\n",
       "      <th></th>\n",
       "      <th></th>\n",
       "      <th></th>\n",
       "      <th></th>\n",
       "      <th></th>\n",
       "      <th></th>\n",
       "    </tr>\n",
       "  </thead>\n",
       "  <tbody>\n",
       "    <tr>\n",
       "      <th>1</th>\n",
       "      <td>2013</td>\n",
       "      <td>1</td>\n",
       "      <td>8.0</td>\n",
       "      <td>8.0</td>\n",
       "      <td>4.0</td>\n",
       "      <td>300.0</td>\n",
       "      <td>-1.1</td>\n",
       "      <td>1023.2</td>\n",
       "      <td>0.0</td>\n",
       "      <td>N</td>\n",
       "      <td>4.7</td>\n",
       "    </tr>\n",
       "    <tr>\n",
       "      <th>3</th>\n",
       "      <td>2013</td>\n",
       "      <td>3</td>\n",
       "      <td>6.0</td>\n",
       "      <td>6.0</td>\n",
       "      <td>11.0</td>\n",
       "      <td>300.0</td>\n",
       "      <td>-1.4</td>\n",
       "      <td>1024.5</td>\n",
       "      <td>0.0</td>\n",
       "      <td>NW</td>\n",
       "      <td>3.1</td>\n",
       "    </tr>\n",
       "    <tr>\n",
       "      <th>4</th>\n",
       "      <td>2013</td>\n",
       "      <td>4</td>\n",
       "      <td>3.0</td>\n",
       "      <td>3.0</td>\n",
       "      <td>12.0</td>\n",
       "      <td>300.0</td>\n",
       "      <td>-2.0</td>\n",
       "      <td>1025.2</td>\n",
       "      <td>0.0</td>\n",
       "      <td>N</td>\n",
       "      <td>2.0</td>\n",
       "    </tr>\n",
       "    <tr>\n",
       "      <th>5</th>\n",
       "      <td>2013</td>\n",
       "      <td>5</td>\n",
       "      <td>5.0</td>\n",
       "      <td>5.0</td>\n",
       "      <td>18.0</td>\n",
       "      <td>400.0</td>\n",
       "      <td>-2.2</td>\n",
       "      <td>1025.6</td>\n",
       "      <td>0.0</td>\n",
       "      <td>N</td>\n",
       "      <td>3.7</td>\n",
       "    </tr>\n",
       "    <tr>\n",
       "      <th>6</th>\n",
       "      <td>2013</td>\n",
       "      <td>6</td>\n",
       "      <td>3.0</td>\n",
       "      <td>3.0</td>\n",
       "      <td>18.0</td>\n",
       "      <td>500.0</td>\n",
       "      <td>-2.6</td>\n",
       "      <td>1026.5</td>\n",
       "      <td>0.0</td>\n",
       "      <td>NNE</td>\n",
       "      <td>2.5</td>\n",
       "    </tr>\n",
       "  </tbody>\n",
       "</table>\n",
       "</div>"
      ],
      "text/plain": [
       "    year  hour  PM2.5  PM10   SO2     CO  TEMP    PRES  RAIN   wd  WSPM\n",
       "Id                                                                     \n",
       "1   2013     1    8.0   8.0   4.0  300.0  -1.1  1023.2   0.0    N   4.7\n",
       "3   2013     3    6.0   6.0  11.0  300.0  -1.4  1024.5   0.0   NW   3.1\n",
       "4   2013     4    3.0   3.0  12.0  300.0  -2.0  1025.2   0.0    N   2.0\n",
       "5   2013     5    5.0   5.0  18.0  400.0  -2.2  1025.6   0.0    N   3.7\n",
       "6   2013     6    3.0   3.0  18.0  500.0  -2.6  1026.5   0.0  NNE   2.5"
      ]
     },
     "execution_count": 5,
     "metadata": {},
     "output_type": "execute_result"
    }
   ],
   "source": [
    "df_train.head()"
   ]
  },
  {
   "cell_type": "markdown",
   "metadata": {},
   "source": [
    "De primera mano podemos observar que podría ser necesario estandarizar los datos en las siguientes columnas:\n",
    "* year: Categorizar los valores y evitar los miles\n",
    "* hour: Siempre y cuando no esté en formato militar\n",
    "* TEMP: Evitar valores negativos (?)\n",
    "* wd: Categorizarlo como dummies"
   ]
  },
  {
   "cell_type": "code",
   "execution_count": 16,
   "metadata": {},
   "outputs": [
    {
     "data": {
      "text/plain": [
       "year     0\n",
       "hour     0\n",
       "PM2.5    0\n",
       "PM10     0\n",
       "SO2      0\n",
       "CO       0\n",
       "TEMP     0\n",
       "PRES     0\n",
       "RAIN     0\n",
       "WSPM     0\n",
       "N        0\n",
       "S        0\n",
       "E        0\n",
       "W        0\n",
       "dtype: int64"
      ]
     },
     "execution_count": 16,
     "metadata": {},
     "output_type": "execute_result"
    }
   ],
   "source": [
    "df_train.isna().sum()"
   ]
  },
  {
   "cell_type": "code",
   "execution_count": 6,
   "metadata": {},
   "outputs": [
    {
     "data": {
      "text/plain": [
       "year       int64\n",
       "hour       int64\n",
       "PM2.5    float64\n",
       "PM10     float64\n",
       "SO2      float64\n",
       "CO       float64\n",
       "TEMP     float64\n",
       "PRES     float64\n",
       "RAIN     float64\n",
       "wd        object\n",
       "WSPM     float64\n",
       "dtype: object"
      ]
     },
     "execution_count": 6,
     "metadata": {},
     "output_type": "execute_result"
    }
   ],
   "source": [
    "df_train.dtypes"
   ]
  },
  {
   "cell_type": "code",
   "execution_count": 7,
   "metadata": {},
   "outputs": [
    {
     "data": {
      "text/plain": [
       "2015    79550\n",
       "2016    79044\n",
       "2014    76930\n",
       "2013    57386\n",
       "2017    12768\n",
       "Name: year, dtype: int64"
      ]
     },
     "execution_count": 7,
     "metadata": {},
     "output_type": "execute_result"
    }
   ],
   "source": [
    "df_train[\"year\"].value_counts()"
   ]
  },
  {
   "cell_type": "code",
   "execution_count": 8,
   "metadata": {},
   "outputs": [
    {
     "name": "stdout",
     "output_type": "stream",
     "text": [
      "TEMP\n",
      "min: -19.7\n",
      "max: 41.6\n"
     ]
    }
   ],
   "source": [
    "print(f\"TEMP\\nmin: {df_train['TEMP'].min()}\\nmax: {df_train['TEMP'].max()}\")"
   ]
  },
  {
   "cell_type": "code",
   "execution_count": 9,
   "metadata": {},
   "outputs": [
    {
     "data": {
      "text/plain": [
       "NE     31472\n",
       "ENE    25014\n",
       "NW     24061\n",
       "N      22333\n",
       "E      21846\n",
       "SW     21004\n",
       "NNE    20397\n",
       "NNW    18520\n",
       "WNW    17840\n",
       "ESE    17687\n",
       "SSW    16513\n",
       "SE     14735\n",
       "WSW    14617\n",
       "S      14084\n",
       "SSE    12829\n",
       "W      12726\n",
       "Name: wd, dtype: int64"
      ]
     },
     "execution_count": 9,
     "metadata": {},
     "output_type": "execute_result"
    }
   ],
   "source": [
    "df_train[\"wd\"].value_counts()"
   ]
  },
  {
   "cell_type": "markdown",
   "metadata": {},
   "source": [
    "La dirección tiene mas valores de los que esperaba, creo deberia sintetizarlo en valores binarios para N, E, S, W"
   ]
  },
  {
   "cell_type": "code",
   "execution_count": 10,
   "metadata": {},
   "outputs": [],
   "source": [
    "df_train[\"TEMP\"] =(df_train[\"TEMP\"]-df_train[\"TEMP\"].min())/(df_train[\"TEMP\"].max()-df_train[\"TEMP\"].min())\n",
    "df_test[\"TEMP\"] =(df_test[\"TEMP\"]-df_test[\"TEMP\"].min())/(df_test[\"TEMP\"].max()-df_test[\"TEMP\"].min())"
   ]
  },
  {
   "cell_type": "code",
   "execution_count": 11,
   "metadata": {},
   "outputs": [],
   "source": [
    "def Estandarizar_Direccion(df):\n",
    "    for idx in df.index:\n",
    "        valor_cargado = df.loc[idx, \"wd\"]\n",
    "        df.loc[idx, \"N\"] = 1 if \"N\" in valor_cargado else 0\n",
    "        df.loc[idx, \"S\"] = 1 if \"S\" in valor_cargado else 0\n",
    "        df.loc[idx, \"E\"] = 1 if \"E\" in valor_cargado else 0\n",
    "        df.loc[idx, \"W\"] = 1 if \"W\" in valor_cargado else 0\n",
    "    df.drop(columns=[\"wd\"])"
   ]
  },
  {
   "cell_type": "code",
   "execution_count": 12,
   "metadata": {},
   "outputs": [],
   "source": [
    "Estandarizar_Direccion(df_train)\n",
    "Estandarizar_Direccion(df_test)"
   ]
  },
  {
   "cell_type": "code",
   "execution_count": 14,
   "metadata": {},
   "outputs": [],
   "source": [
    "df_train.drop(columns= [\"wd\"], inplace= True)\n",
    "df_test.drop(columns= [\"wd\"], inplace= True)"
   ]
  },
  {
   "cell_type": "code",
   "execution_count": 15,
   "metadata": {},
   "outputs": [],
   "source": [
    "df_train[\"year\"] = df_train[\"year\"]-2013\n",
    "df_test[\"year\"] = df_test[\"year\"]-2013"
   ]
  },
  {
   "cell_type": "code",
   "execution_count": 17,
   "metadata": {},
   "outputs": [
    {
     "data": {
      "text/html": [
       "<div>\n",
       "<style scoped>\n",
       "    .dataframe tbody tr th:only-of-type {\n",
       "        vertical-align: middle;\n",
       "    }\n",
       "\n",
       "    .dataframe tbody tr th {\n",
       "        vertical-align: top;\n",
       "    }\n",
       "\n",
       "    .dataframe thead th {\n",
       "        text-align: right;\n",
       "    }\n",
       "</style>\n",
       "<table border=\"1\" class=\"dataframe\">\n",
       "  <thead>\n",
       "    <tr style=\"text-align: right;\">\n",
       "      <th></th>\n",
       "      <th>year</th>\n",
       "      <th>hour</th>\n",
       "      <th>PM2.5</th>\n",
       "      <th>PM10</th>\n",
       "      <th>SO2</th>\n",
       "      <th>CO</th>\n",
       "      <th>TEMP</th>\n",
       "      <th>PRES</th>\n",
       "      <th>RAIN</th>\n",
       "      <th>WSPM</th>\n",
       "      <th>N</th>\n",
       "      <th>S</th>\n",
       "      <th>E</th>\n",
       "      <th>W</th>\n",
       "    </tr>\n",
       "    <tr>\n",
       "      <th>Id</th>\n",
       "      <th></th>\n",
       "      <th></th>\n",
       "      <th></th>\n",
       "      <th></th>\n",
       "      <th></th>\n",
       "      <th></th>\n",
       "      <th></th>\n",
       "      <th></th>\n",
       "      <th></th>\n",
       "      <th></th>\n",
       "      <th></th>\n",
       "      <th></th>\n",
       "      <th></th>\n",
       "      <th></th>\n",
       "    </tr>\n",
       "  </thead>\n",
       "  <tbody>\n",
       "    <tr>\n",
       "      <th>1</th>\n",
       "      <td>0</td>\n",
       "      <td>1</td>\n",
       "      <td>8.0</td>\n",
       "      <td>8.0</td>\n",
       "      <td>4.0</td>\n",
       "      <td>300.0</td>\n",
       "      <td>0.303426</td>\n",
       "      <td>1023.2</td>\n",
       "      <td>0.0</td>\n",
       "      <td>4.7</td>\n",
       "      <td>1.0</td>\n",
       "      <td>0.0</td>\n",
       "      <td>0.0</td>\n",
       "      <td>0.0</td>\n",
       "    </tr>\n",
       "    <tr>\n",
       "      <th>3</th>\n",
       "      <td>0</td>\n",
       "      <td>3</td>\n",
       "      <td>6.0</td>\n",
       "      <td>6.0</td>\n",
       "      <td>11.0</td>\n",
       "      <td>300.0</td>\n",
       "      <td>0.298532</td>\n",
       "      <td>1024.5</td>\n",
       "      <td>0.0</td>\n",
       "      <td>3.1</td>\n",
       "      <td>1.0</td>\n",
       "      <td>0.0</td>\n",
       "      <td>0.0</td>\n",
       "      <td>1.0</td>\n",
       "    </tr>\n",
       "    <tr>\n",
       "      <th>4</th>\n",
       "      <td>0</td>\n",
       "      <td>4</td>\n",
       "      <td>3.0</td>\n",
       "      <td>3.0</td>\n",
       "      <td>12.0</td>\n",
       "      <td>300.0</td>\n",
       "      <td>0.288744</td>\n",
       "      <td>1025.2</td>\n",
       "      <td>0.0</td>\n",
       "      <td>2.0</td>\n",
       "      <td>1.0</td>\n",
       "      <td>0.0</td>\n",
       "      <td>0.0</td>\n",
       "      <td>0.0</td>\n",
       "    </tr>\n",
       "    <tr>\n",
       "      <th>5</th>\n",
       "      <td>0</td>\n",
       "      <td>5</td>\n",
       "      <td>5.0</td>\n",
       "      <td>5.0</td>\n",
       "      <td>18.0</td>\n",
       "      <td>400.0</td>\n",
       "      <td>0.285481</td>\n",
       "      <td>1025.6</td>\n",
       "      <td>0.0</td>\n",
       "      <td>3.7</td>\n",
       "      <td>1.0</td>\n",
       "      <td>0.0</td>\n",
       "      <td>0.0</td>\n",
       "      <td>0.0</td>\n",
       "    </tr>\n",
       "    <tr>\n",
       "      <th>6</th>\n",
       "      <td>0</td>\n",
       "      <td>6</td>\n",
       "      <td>3.0</td>\n",
       "      <td>3.0</td>\n",
       "      <td>18.0</td>\n",
       "      <td>500.0</td>\n",
       "      <td>0.278956</td>\n",
       "      <td>1026.5</td>\n",
       "      <td>0.0</td>\n",
       "      <td>2.5</td>\n",
       "      <td>1.0</td>\n",
       "      <td>0.0</td>\n",
       "      <td>1.0</td>\n",
       "      <td>0.0</td>\n",
       "    </tr>\n",
       "  </tbody>\n",
       "</table>\n",
       "</div>"
      ],
      "text/plain": [
       "    year  hour  PM2.5  PM10   SO2     CO      TEMP    PRES  RAIN  WSPM    N  \\\n",
       "Id                                                                            \n",
       "1      0     1    8.0   8.0   4.0  300.0  0.303426  1023.2   0.0   4.7  1.0   \n",
       "3      0     3    6.0   6.0  11.0  300.0  0.298532  1024.5   0.0   3.1  1.0   \n",
       "4      0     4    3.0   3.0  12.0  300.0  0.288744  1025.2   0.0   2.0  1.0   \n",
       "5      0     5    5.0   5.0  18.0  400.0  0.285481  1025.6   0.0   3.7  1.0   \n",
       "6      0     6    3.0   3.0  18.0  500.0  0.278956  1026.5   0.0   2.5  1.0   \n",
       "\n",
       "      S    E    W  \n",
       "Id                 \n",
       "1   0.0  0.0  0.0  \n",
       "3   0.0  0.0  1.0  \n",
       "4   0.0  0.0  0.0  \n",
       "5   0.0  0.0  0.0  \n",
       "6   0.0  1.0  0.0  "
      ]
     },
     "execution_count": 17,
     "metadata": {},
     "output_type": "execute_result"
    }
   ],
   "source": [
    "df_train.head()"
   ]
  },
  {
   "cell_type": "code",
   "execution_count": 30,
   "metadata": {},
   "outputs": [
    {
     "data": {
      "text/html": [
       "<div>\n",
       "<style scoped>\n",
       "    .dataframe tbody tr th:only-of-type {\n",
       "        vertical-align: middle;\n",
       "    }\n",
       "\n",
       "    .dataframe tbody tr th {\n",
       "        vertical-align: top;\n",
       "    }\n",
       "\n",
       "    .dataframe thead th {\n",
       "        text-align: right;\n",
       "    }\n",
       "</style>\n",
       "<table border=\"1\" class=\"dataframe\">\n",
       "  <thead>\n",
       "    <tr style=\"text-align: right;\">\n",
       "      <th></th>\n",
       "      <th>year</th>\n",
       "      <th>hour</th>\n",
       "      <th>PM10</th>\n",
       "      <th>SO2</th>\n",
       "      <th>CO</th>\n",
       "      <th>TEMP</th>\n",
       "      <th>PRES</th>\n",
       "      <th>RAIN</th>\n",
       "      <th>WSPM</th>\n",
       "      <th>N</th>\n",
       "      <th>S</th>\n",
       "      <th>E</th>\n",
       "      <th>W</th>\n",
       "      <th>PM2.5</th>\n",
       "    </tr>\n",
       "    <tr>\n",
       "      <th>Id</th>\n",
       "      <th></th>\n",
       "      <th></th>\n",
       "      <th></th>\n",
       "      <th></th>\n",
       "      <th></th>\n",
       "      <th></th>\n",
       "      <th></th>\n",
       "      <th></th>\n",
       "      <th></th>\n",
       "      <th></th>\n",
       "      <th></th>\n",
       "      <th></th>\n",
       "      <th></th>\n",
       "      <th></th>\n",
       "    </tr>\n",
       "  </thead>\n",
       "  <tbody>\n",
       "    <tr>\n",
       "      <th>0</th>\n",
       "      <td>0</td>\n",
       "      <td>0</td>\n",
       "      <td>4.0</td>\n",
       "      <td>4.0</td>\n",
       "      <td>300.0</td>\n",
       "      <td>0.313214</td>\n",
       "      <td>1023.0</td>\n",
       "      <td>0.0</td>\n",
       "      <td>4.4</td>\n",
       "      <td>1.0</td>\n",
       "      <td>0.0</td>\n",
       "      <td>0.0</td>\n",
       "      <td>1.0</td>\n",
       "      <td>0</td>\n",
       "    </tr>\n",
       "    <tr>\n",
       "      <th>2</th>\n",
       "      <td>0</td>\n",
       "      <td>2</td>\n",
       "      <td>7.0</td>\n",
       "      <td>5.0</td>\n",
       "      <td>300.0</td>\n",
       "      <td>0.306688</td>\n",
       "      <td>1023.5</td>\n",
       "      <td>0.0</td>\n",
       "      <td>5.6</td>\n",
       "      <td>1.0</td>\n",
       "      <td>0.0</td>\n",
       "      <td>0.0</td>\n",
       "      <td>1.0</td>\n",
       "      <td>0</td>\n",
       "    </tr>\n",
       "    <tr>\n",
       "      <th>12</th>\n",
       "      <td>0</td>\n",
       "      <td>12</td>\n",
       "      <td>6.0</td>\n",
       "      <td>7.0</td>\n",
       "      <td>300.0</td>\n",
       "      <td>0.388254</td>\n",
       "      <td>1027.3</td>\n",
       "      <td>0.0</td>\n",
       "      <td>5.1</td>\n",
       "      <td>1.0</td>\n",
       "      <td>0.0</td>\n",
       "      <td>0.0</td>\n",
       "      <td>1.0</td>\n",
       "      <td>0</td>\n",
       "    </tr>\n",
       "    <tr>\n",
       "      <th>15</th>\n",
       "      <td>0</td>\n",
       "      <td>15</td>\n",
       "      <td>15.0</td>\n",
       "      <td>7.0</td>\n",
       "      <td>400.0</td>\n",
       "      <td>0.425775</td>\n",
       "      <td>1025.7</td>\n",
       "      <td>0.0</td>\n",
       "      <td>2.8</td>\n",
       "      <td>1.0</td>\n",
       "      <td>0.0</td>\n",
       "      <td>1.0</td>\n",
       "      <td>0.0</td>\n",
       "      <td>0</td>\n",
       "    </tr>\n",
       "    <tr>\n",
       "      <th>17</th>\n",
       "      <td>0</td>\n",
       "      <td>17</td>\n",
       "      <td>23.0</td>\n",
       "      <td>11.0</td>\n",
       "      <td>400.0</td>\n",
       "      <td>0.394780</td>\n",
       "      <td>1026.3</td>\n",
       "      <td>0.0</td>\n",
       "      <td>2.8</td>\n",
       "      <td>1.0</td>\n",
       "      <td>0.0</td>\n",
       "      <td>1.0</td>\n",
       "      <td>0.0</td>\n",
       "      <td>0</td>\n",
       "    </tr>\n",
       "  </tbody>\n",
       "</table>\n",
       "</div>"
      ],
      "text/plain": [
       "    year  hour  PM10   SO2     CO      TEMP    PRES  RAIN  WSPM    N    S  \\\n",
       "Id                                                                          \n",
       "0      0     0   4.0   4.0  300.0  0.313214  1023.0   0.0   4.4  1.0  0.0   \n",
       "2      0     2   7.0   5.0  300.0  0.306688  1023.5   0.0   5.6  1.0  0.0   \n",
       "12     0    12   6.0   7.0  300.0  0.388254  1027.3   0.0   5.1  1.0  0.0   \n",
       "15     0    15  15.0   7.0  400.0  0.425775  1025.7   0.0   2.8  1.0  0.0   \n",
       "17     0    17  23.0  11.0  400.0  0.394780  1026.3   0.0   2.8  1.0  0.0   \n",
       "\n",
       "      E    W  PM2.5  \n",
       "Id                   \n",
       "0   0.0  1.0      0  \n",
       "2   0.0  1.0      0  \n",
       "12  0.0  1.0      0  \n",
       "15  1.0  0.0      0  \n",
       "17  1.0  0.0      0  "
      ]
     },
     "execution_count": 30,
     "metadata": {},
     "output_type": "execute_result"
    }
   ],
   "source": [
    "df_test[\"PM2.5\"] = 0\n",
    "df_test.head()"
   ]
  },
  {
   "cell_type": "code",
   "execution_count": 60,
   "metadata": {},
   "outputs": [],
   "source": [
    "X = df_train.drop(columns=[\"PM2.5\"])\n",
    "y = df_train[\"PM2.5\"]\n",
    "X_train,x_test,y_train, y_test = train_test_split(X,y)"
   ]
  },
  {
   "cell_type": "code",
   "execution_count": 78,
   "metadata": {},
   "outputs": [
    {
     "data": {
      "text/plain": [
       "<matplotlib.axes._subplots.AxesSubplot at 0x29181171040>"
      ]
     },
     "execution_count": 78,
     "metadata": {},
     "output_type": "execute_result"
    },
    {
     "data": {
      "image/png": "[encoded data removed]",
      "text/plain": [
       "<Figure size 792x648 with 2 Axes>"
      ]
     },
     "metadata": {
      "needs_background": "light"
     },
     "output_type": "display_data"
    }
   ],
   "source": [
    "corr = X.corr()\n",
    "mask = np.triu(np.ones_like(corr, dtype=bool))\n",
    "f, ax = plt.subplots(figsize=(11, 9))\n",
    "cmap = sns.diverging_palette(230, 20, as_cmap=True)\n",
    "sns.heatmap(corr, mask=mask, cmap=cmap, vmax=.3, center=0,\n",
    "            square=True, linewidths=.5, cbar_kws={\"shrink\": .5})"
   ]
  },
  {
   "cell_type": "markdown",
   "metadata": {},
   "source": [
    "Claro...\n",
    "1. Puedo dejar la dirección definida por solo N y E, la auscencia de ellas simbolizaria lo contrario\n",
    "2. Podría probar a remover la presión atmosferica y mantener la temperatura\n",
    "\n",
    "Lo hare mas abajo para mantener los datos y ver diferencias"
   ]
  },
  {
   "cell_type": "code",
   "execution_count": 61,
   "metadata": {},
   "outputs": [],
   "source": [
    "def modeling_testing(lista_modelos):\n",
    "    for i in lista_modelos:\n",
    "        modelo = i()\n",
    "        modelo.fit(X_train,y_train)\n",
    "        train_score = modelo.score(X_train,y_train)\n",
    "        test_score = modelo.score(x_test, y_test)\n",
    "        print('Modelo :', str(i).split(sep = '.')[-1])\n",
    "        print('Train_score :', train_score,'\\nTest_Score:' ,test_score,'\\n')"
   ]
  },
  {
   "cell_type": "markdown",
   "metadata": {},
   "source": [
    "![decisión](https://blogs.sas.com/content/subconsciousmusings/files/2017/04/machine-learning-cheet-sheet-2.png)"
   ]
  },
  {
   "cell_type": "code",
   "execution_count": 68,
   "metadata": {},
   "outputs": [],
   "source": [
    "from sklearn.ensemble import RandomForestRegressor\n",
    "from sklearn.ensemble import GradientBoostingRegressor\n",
    "from sklearn.neighbors import KNeighborsRegressor\n",
    "from sklearn.linear_model import LinearRegression, Ridge\n",
    "from sklearn.neural_network import MLPRegressor\n",
    "\n",
    "lista_m= [\n",
    "    RandomForestRegressor,          \n",
    "    GradientBoostingRegressor,\n",
    "    KNeighborsRegressor,\n",
    "    LinearRegression,\n",
    "    Ridge,\n",
    "    MLPRegressor\n",
    "         ]"
   ]
  },
  {
   "cell_type": "code",
   "execution_count": 69,
   "metadata": {},
   "outputs": [
    {
     "name": "stdout",
     "output_type": "stream",
     "text": [
      "Modelo : RandomForestRegressor'>\n",
      "Train_score : 0.9902784167626913 \n",
      "Test_Score: 0.9340531626707985 \n",
      "\n",
      "Modelo : GradientBoostingRegressor'>\n",
      "Train_score : 0.9061643343551061 \n",
      "Test_Score: 0.9079549029924755 \n",
      "\n",
      "Modelo : KNeighborsRegressor'>\n",
      "Train_score : 0.9317770919229104 \n",
      "Test_Score: 0.8996389758308745 \n",
      "\n",
      "Modelo : LinearRegression'>\n",
      "Train_score : 0.8434875329696636 \n",
      "Test_Score: 0.8477555079401506 \n",
      "\n",
      "Modelo : Ridge'>\n",
      "Train_score : 0.8434875327802022 \n",
      "Test_Score: 0.8477556321537686 \n",
      "\n",
      "Modelo : MLPRegressor'>\n",
      "Train_score : 0.9071584270801607 \n",
      "Test_Score: 0.9106167540300654 \n",
      "\n"
     ]
    }
   ],
   "source": [
    "modeling_testing(lista_m)"
   ]
  },
  {
   "cell_type": "markdown",
   "metadata": {},
   "source": [
    "Con valores por default el 'RandomForestRegressor' es el modelo con mayor precisión."
   ]
  },
  {
   "cell_type": "code",
   "execution_count": 71,
   "metadata": {},
   "outputs": [],
   "source": [
    "rfr_0 = RandomForestRegressor(\n",
    "    n_estimators= 100,\n",
    "    criterion= \"mse\",\n",
    "    min_samples_split= 2,\n",
    "    min_samples_leaf= 1\n",
    ")\n",
    "\n",
    "rfr_1 = RandomForestRegressor(\n",
    "    n_estimators= 200,\n",
    "    criterion= \"mse\",\n",
    "    min_samples_split= 4,\n",
    "    min_samples_leaf= 2\n",
    ")\n",
    "\n",
    "rfr_2 = RandomForestRegressor(\n",
    "    n_estimators= 300,\n",
    "    criterion= \"mse\",\n",
    "    min_samples_split= 6,\n",
    "    min_samples_leaf= 3\n",
    ")"
   ]
  },
  {
   "cell_type": "code",
   "execution_count": 75,
   "metadata": {},
   "outputs": [
    {
     "name": "stdout",
     "output_type": "stream",
     "text": [
      "Train_score : 0.9902151189250815 \n",
      "Test_Score: 0.9342373291034921 \n",
      "\n",
      "Train_score : 0.9840550475985212 \n",
      "Test_Score: 0.9339587824065907 \n",
      "\n",
      "Train_score : 0.9771002121902357 \n",
      "Test_Score: 0.9334219223737326 \n",
      "\n"
     ]
    }
   ],
   "source": [
    "configuraciones = [rfr_0, rfr_1, rfr_2]\n",
    "for configuracion in configuraciones:\n",
    "    configuracion.fit(X_train,y_train)\n",
    "    train_score = configuracion.score(X_train,y_train)\n",
    "    test_score = configuracion.score(x_test, y_test)\n",
    "    print('Train_score :', train_score,'\\nTest_Score:' ,test_score,'\\n')"
   ]
  },
  {
   "cell_type": "code",
   "execution_count": 77,
   "metadata": {},
   "outputs": [
    {
     "name": "stdout",
     "output_type": "stream",
     "text": [
      "Train_score : 0.9898034192042398 \n",
      "Test_Score: 0.9333432540374889 \n",
      "\n"
     ]
    }
   ],
   "source": [
    "rfr_3 = RandomForestRegressor(\n",
    "    n_estimators= 50,\n",
    "    criterion= \"mse\",\n",
    "    min_samples_split= 2,\n",
    "    min_samples_leaf= 1\n",
    ")\n",
    "rfr_3.fit(X_train,y_train)\n",
    "train_score = rfr_3.score(X_train,y_train)\n",
    "test_score = rfr_3.score(x_test, y_test)\n",
    "print('Train_score :', train_score,'\\nTest_Score:' ,test_score,'\\n')"
   ]
  },
  {
   "cell_type": "code",
   "execution_count": 79,
   "metadata": {},
   "outputs": [
    {
     "name": "stdout",
     "output_type": "stream",
     "text": [
      "Train_score : 0.9898208770609135 \n",
      "Test_Score: 0.9244019089081252 \n",
      "\n"
     ]
    }
   ],
   "source": [
    "X = df_train.drop(columns=[\"PM2.5\",\"S\",\"W\", \"PRES\"])\n",
    "X_train,x_test,y_train, y_test = train_test_split(X,y)\n",
    "rfr_0.fit(X_train,y_train)\n",
    "train_score = rfr_0.score(X_train,y_train)\n",
    "test_score = rfr_0.score(x_test, y_test)\n",
    "print('Train_score :', train_score,'\\nTest_Score:' ,test_score,'\\n')"
   ]
  },
  {
   "cell_type": "code",
   "execution_count": 80,
   "metadata": {},
   "outputs": [
    {
     "name": "stdout",
     "output_type": "stream",
     "text": [
      "Train_score : 0.9903314356573149 \n",
      "Test_Score: 0.9313785140220596 \n",
      "\n"
     ]
    }
   ],
   "source": [
    "X = df_train.drop(columns=[\"PM2.5\",\"S\",\"W\"])\n",
    "X_train,x_test,y_train, y_test = train_test_split(X,y)\n",
    "rfr_0.fit(X_train,y_train)\n",
    "train_score = rfr_0.score(X_train,y_train)\n",
    "test_score = rfr_0.score(x_test, y_test)\n",
    "print('Train_score :', train_score,'\\nTest_Score:' ,test_score,'\\n')"
   ]
  },
  {
   "cell_type": "code",
   "execution_count": null,
   "metadata": {},
   "outputs": [],
   "source": [
    "X = df_train.drop(columns=[\"PM2.5\"])\n",
    "X_train,x_test,y_train, y_test = train_test_split(X,y)\n",
    "\n",
    "from sklearn.preprocessing import PolynomialFeatures   \n",
    "poly = PolynomialFeatures(degree = 5) \n",
    "X_poly = poly.fit_transform(X) \n",
    "poly.fit(X_poly, y) \n",
    "lin2 = LinearRegression() \n",
    "lin2.fit(X_poly, y) \n",
    "train_score = lin2.score(X_train,y_train)\n",
    "test_score = lin2.score(x_test, y_test)\n",
    "print('Train_score :', train_score,'\\nTest_Score:' ,test_score,'\\n')"
   ]
  },
  {
   "cell_type": "code",
   "execution_count": null,
   "metadata": {},
   "outputs": [],
   "source": []
  }
 ],
 "metadata": {
  "kernelspec": {
   "display_name": "Python 3",
   "language": "python",
   "name": "python3"
  },
  "language_info": {
   "codemirror_mode": {
    "name": "ipython",
    "version": 3
   },
   "file_extension": ".py",
   "mimetype": "text/x-python",
   "name": "python",
   "nbconvert_exporter": "python",
   "pygments_lexer": "ipython3",
   "version": "3.8.3"
  }
 },
 "nbformat": 4,
 "nbformat_minor": 4
}
